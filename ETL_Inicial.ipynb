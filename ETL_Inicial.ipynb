{
 "cells": [
  {
   "attachments": {},
   "cell_type": "markdown",
   "metadata": {},
   "source": [
    "Carga del primer Dataset, conteniendo titulos con su respectiva información.\n",
    "Se procede con la limpieza inicial, eliminación de columnas sin información y desanidamiento de columnas compuestas."
   ]
  },
  {
   "cell_type": "code",
   "execution_count": 82,
   "metadata": {},
   "outputs": [
    {
     "name": "stderr",
     "output_type": "stream",
     "text": [
      "C:\\Users\\Gaston Luna Paez\\AppData\\Local\\Temp\\ipykernel_13656\\2834309086.py:4: DtypeWarning: Columns (10) have mixed types. Specify dtype option on import or set low_memory=False.\n",
      "  df = pd.read_csv(\"data/movies_dataset.csv\")\n"
     ]
    }
   ],
   "source": [
    "import pandas as pd\n",
    "import numpy as np\n",
    "\n",
    "df = pd.read_csv(\"data/movies_dataset.csv\")"
   ]
  },
  {
   "attachments": {},
   "cell_type": "markdown",
   "metadata": {},
   "source": [
    "Descarte de filas sin release_date para su posterior manipulación"
   ]
  },
  {
   "cell_type": "code",
   "execution_count": 83,
   "metadata": {},
   "outputs": [],
   "source": [
    "df['release_date'] = df['release_date'].apply(lambda x: pd.to_datetime(x, errors='coerce').date()) # Con coerce marcamos con nan aquellos errores, de modo de descartarlos luego\n",
    "dfNAN = df[df.release_date.isna()]\n",
    "df.dropna(subset=[\"release_date\"], inplace=True)"
   ]
  },
  {
   "cell_type": "code",
   "execution_count": 84,
   "metadata": {},
   "outputs": [],
   "source": [
    "df['release_date'] = pd.to_datetime(df['release_date'])"
   ]
  },
  {
   "cell_type": "code",
   "execution_count": 85,
   "metadata": {},
   "outputs": [],
   "source": [
    "df['release_year'] = df.release_date.apply(lambda x: x.year) #Creación de columna con el año de las fechas de lanzamiento"
   ]
  },
  {
   "attachments": {},
   "cell_type": "markdown",
   "metadata": {},
   "source": [
    "Eliminación de columnas innecesarias para los pasos posteriores"
   ]
  },
  {
   "cell_type": "code",
   "execution_count": 86,
   "metadata": {},
   "outputs": [],
   "source": [
    "df.drop(columns=['video', 'imdb_id', 'adult','original_title', 'poster_path', 'homepage'], inplace=True)"
   ]
  },
  {
   "attachments": {},
   "cell_type": "markdown",
   "metadata": {},
   "source": [
    "Imputación de valores faltantes para las columnas budget y revenue, necesarios para la creación de la columna return"
   ]
  },
  {
   "cell_type": "code",
   "execution_count": 87,
   "metadata": {},
   "outputs": [],
   "source": [
    "#Se encontro valores de tipo str en la columna 'budget', debían ser casteados para rellenarse con 0\n",
    "df['budget'] = df['budget'].apply(lambda x: pd.to_numeric(x, errors='coerce'))\n",
    "df[['revenue', 'budget']] = df[['revenue', 'budget']].fillna(value=0)"
   ]
  },
  {
   "cell_type": "code",
   "execution_count": 88,
   "metadata": {},
   "outputs": [],
   "source": [
    "#Casteo de valores a float para creación de nueva columna 'return'\n",
    "df[['revenue', 'budget']] = df[['revenue', 'budget']].astype(float)\n",
    "df['return'] = df['revenue']/df['budget']\n",
    "df['return'] = df['return'].fillna(value=0)\n",
    "df['return'].replace([np.inf, -np.inf], 0, inplace=True) # Salvando divisiones por 0\n"
   ]
  },
  {
   "attachments": {},
   "cell_type": "markdown",
   "metadata": {},
   "source": [
    "A cotinuación se observa que muchos tipos de datos no estan como deberían en cuanto a tipo. Sin embargo, por simpleza, estos casteos se realizaran posterior al etl en cuestion"
   ]
  },
  {
   "cell_type": "code",
   "execution_count": 89,
   "metadata": {},
   "outputs": [
    {
     "name": "stdout",
     "output_type": "stream",
     "text": [
      "<class 'pandas.core.frame.DataFrame'>\n",
      "Index: 45376 entries, 0 to 45465\n",
      "Data columns (total 20 columns):\n",
      " #   Column                 Non-Null Count  Dtype         \n",
      "---  ------                 --------------  -----         \n",
      " 0   belongs_to_collection  4488 non-null   object        \n",
      " 1   budget                 45376 non-null  float64       \n",
      " 2   genres                 45376 non-null  object        \n",
      " 3   id                     45376 non-null  object        \n",
      " 4   original_language      45365 non-null  object        \n",
      " 5   overview               44435 non-null  object        \n",
      " 6   popularity             45376 non-null  object        \n",
      " 7   production_companies   45376 non-null  object        \n",
      " 8   production_countries   45376 non-null  object        \n",
      " 9   release_date           45376 non-null  datetime64[ns]\n",
      " 10  revenue                45376 non-null  float64       \n",
      " 11  runtime                45130 non-null  float64       \n",
      " 12  spoken_languages       45376 non-null  object        \n",
      " 13  status                 45296 non-null  object        \n",
      " 14  tagline                20398 non-null  object        \n",
      " 15  title                  45376 non-null  object        \n",
      " 16  vote_average           45376 non-null  float64       \n",
      " 17  vote_count             45376 non-null  float64       \n",
      " 18  release_year           45376 non-null  int64         \n",
      " 19  return                 45376 non-null  float64       \n",
      "dtypes: datetime64[ns](1), float64(6), int64(1), object(12)\n",
      "memory usage: 7.3+ MB\n"
     ]
    }
   ],
   "source": [
    "df.info()"
   ]
  },
  {
   "attachments": {},
   "cell_type": "markdown",
   "metadata": {},
   "source": [
    "DESANIDAMIENTO DE CAMPOS\n",
    "\n",
    "Campo: 'belongs_to_collection'\n",
    "\n",
    "Tipo de dato y formato inicial:\n",
    "\n",
    "<class 'str'>\n",
    "{'id': 10194, 'name': 'Toy Story Collection', 'poster_path': '/7G9915LfUQ2lVfwMEEhDsn3kT4B.jpg', 'backdrop_path': '/9FBwqcd9IRruEDUrTdcaafOMKUq.jpg'}\n",
    "\n",
    "En este campo y en los posteriores anidados se observo la presencia de estructuras similares a codigo python, por ende se empleo la función literal_eval(str) que interpreta las cadenas como expresiones, a diferencia del eval() esta intrpreta solo expresiones seguras "
   ]
  },
  {
   "cell_type": "code",
   "execution_count": 90,
   "metadata": {},
   "outputs": [],
   "source": [
    "from ast import literal_eval"
   ]
  },
  {
   "cell_type": "code",
   "execution_count": 91,
   "metadata": {},
   "outputs": [],
   "source": [
    "string = \"{'id': 10194, 'name': 'Toy Story Collection', 'poster_path': '/7G9915LfUQ2lVfwMEEhDsn3kT4B.jpg', 'backdrop_path': '/9FBwqcd9IRruEDUrTdcaafOMKUq.jpg'}\"\n",
    "literal_eval(string)\n",
    "\n",
    "for elemento in df['belongs_to_collection']:\n",
    "    if pd.notnull(elemento):\n",
    "        if not(isinstance(eval(elemento), dict)):\n",
    "            print(elemento)"
   ]
  },
  {
   "cell_type": "code",
   "execution_count": 92,
   "metadata": {},
   "outputs": [],
   "source": [
    "df['belongs_to_collection'] = df['belongs_to_collection'].apply( lambda x: literal_eval(x) if pd.notnull(x) else x)\n",
    "df['belongs_to_collection'] = df['belongs_to_collection'].apply( lambda x: x['name'] if isinstance(x,dict) else '') #Se aplica un valor imputado aquellos registros sin collection asociada, no se usa palabras evitando confusiones por coincidencias accidentales"
   ]
  },
  {
   "cell_type": "code",
   "execution_count": 93,
   "metadata": {},
   "outputs": [
    {
     "data": {
      "text/plain": [
       "0                  Toy Story Collection\n",
       "1                                      \n",
       "2             Grumpy Old Men Collection\n",
       "3                                      \n",
       "4        Father of the Bride Collection\n",
       "                      ...              \n",
       "45460                                  \n",
       "45462                                  \n",
       "45463                                  \n",
       "45464                                  \n",
       "45465                                  \n",
       "Name: belongs_to_collection, Length: 45376, dtype: object"
      ]
     },
     "execution_count": 93,
     "metadata": {},
     "output_type": "execute_result"
    }
   ],
   "source": [
    "df['belongs_to_collection']"
   ]
  },
  {
   "attachments": {},
   "cell_type": "markdown",
   "metadata": {},
   "source": [
    "DESANIDAMIENTO DE CAMPOS\n",
    "\n",
    "Campo: 'genres'\n",
    "\n",
    "Tipo de dato y formato inicial:\n",
    "\n",
    "<class 'str'>\n",
    "\n",
    "\"[{'id': 35, 'name': 'Comedy'}, {'id': 18, 'name': 'Drama'}, {'id': 10749, 'name': 'Romance'}]\"\n",
    "\n",
    "En este caso se observa una lista de diccionarios, se opto por quedarnos con los nombres de los generos para mejor interpretación"
   ]
  },
  {
   "cell_type": "code",
   "execution_count": 94,
   "metadata": {},
   "outputs": [
    {
     "data": {
      "text/plain": [
       "['Animation', 'Comedy', 'Family']"
      ]
     },
     "execution_count": 94,
     "metadata": {},
     "output_type": "execute_result"
    }
   ],
   "source": [
    "lista = literal_eval(df.iloc[0].genres) # Ya tenia forma de lista de diccionarios\n",
    "[genero['name'] for genero in lista] #Me quedo solo con los nombres de los generos, podrian ser los id tambien"
   ]
  },
  {
   "cell_type": "code",
   "execution_count": 95,
   "metadata": {},
   "outputs": [],
   "source": [
    "df['genres'] = df['genres'].apply( lambda x: literal_eval(x) if pd.notnull(x) else list([]))\n",
    "df['genres'] = df['genres'].apply( lambda x: [genero['name'] for genero in x] )"
   ]
  },
  {
   "cell_type": "code",
   "execution_count": 96,
   "metadata": {},
   "outputs": [
    {
     "data": {
      "text/plain": [
       "0         [Animation, Comedy, Family]\n",
       "1        [Adventure, Fantasy, Family]\n",
       "2                   [Romance, Comedy]\n",
       "3            [Comedy, Drama, Romance]\n",
       "4                            [Comedy]\n",
       "                     ...             \n",
       "45460        [Drama, Action, Romance]\n",
       "45462                         [Drama]\n",
       "45463       [Action, Drama, Thriller]\n",
       "45464                              []\n",
       "45465                              []\n",
       "Name: genres, Length: 45376, dtype: object"
      ]
     },
     "execution_count": 96,
     "metadata": {},
     "output_type": "execute_result"
    }
   ],
   "source": [
    "df['genres']"
   ]
  },
  {
   "attachments": {},
   "cell_type": "markdown",
   "metadata": {},
   "source": [
    "DESANIDAMIENTO DE CAMPOS\n",
    "\n",
    "Campo: 'production_companies'\n",
    "\n",
    "Tipo de dato y formato inicial:\n",
    "\n",
    "<class 'str'>\n",
    "\n",
    "\"[{'name': 'Pixar Animation Studios', 'id': 3}]\"\n"
   ]
  },
  {
   "cell_type": "code",
   "execution_count": 97,
   "metadata": {},
   "outputs": [
    {
     "name": "stdout",
     "output_type": "stream",
     "text": [
      "[{'name': 'Pixar Animation Studios', 'id': 3}]\n"
     ]
    }
   ],
   "source": [
    "string = \"[{'name': 'Pixar Animation Studios', 'id': 3}]\"\n",
    "print(literal_eval(string))\n",
    "\n",
    "for elemento in df['production_companies']:\n",
    "    if pd.notnull(elemento):\n",
    "        if not(isinstance(literal_eval(elemento), list)):\n",
    "            print(elemento)"
   ]
  },
  {
   "cell_type": "code",
   "execution_count": 98,
   "metadata": {},
   "outputs": [],
   "source": [
    "df['production_companies'] = df['production_companies'].apply( lambda x: literal_eval(x) if pd.notnull(x) else x)\n",
    "df['production_companies'] = df['production_companies'].apply( lambda x: [prod['name'] for prod in x if type(prod) == dict] if isinstance(x, list) else list([]))"
   ]
  },
  {
   "cell_type": "code",
   "execution_count": 99,
   "metadata": {},
   "outputs": [
    {
     "data": {
      "text/plain": [
       "0                                [Pixar Animation Studios]\n",
       "1        [TriStar Pictures, Teitler Film, Interscope Co...\n",
       "2                           [Warner Bros., Lancaster Gate]\n",
       "3                 [Twentieth Century Fox Film Corporation]\n",
       "4             [Sandollar Productions, Touchstone Pictures]\n",
       "                               ...                        \n",
       "45460    [Westdeutscher Rundfunk (WDR), Working Title F...\n",
       "45462                                        [Sine Olivia]\n",
       "45463                            [American World Pictures]\n",
       "45464                                          [Yermoliev]\n",
       "45465                                                   []\n",
       "Name: production_companies, Length: 45376, dtype: object"
      ]
     },
     "execution_count": 99,
     "metadata": {},
     "output_type": "execute_result"
    }
   ],
   "source": [
    "df.production_companies"
   ]
  },
  {
   "attachments": {},
   "cell_type": "markdown",
   "metadata": {},
   "source": [
    "DESANIDAMIENTO DE CAMPOS\n",
    "\n",
    "Campo: 'production_countries'\n",
    "\n",
    "Tipo de dato y formato inicial:\n",
    "\n",
    "<class 'str'>\n",
    "\n",
    "\"[{'iso_3166_1': 'US', 'name': 'United States of America'}]\"\n",
    "\n"
   ]
  },
  {
   "cell_type": "code",
   "execution_count": 100,
   "metadata": {},
   "outputs": [
    {
     "name": "stdout",
     "output_type": "stream",
     "text": [
      "[{'iso_3166_1': 'US', 'name': 'United States of America'}]\n"
     ]
    }
   ],
   "source": [
    "string = \"[{'iso_3166_1': 'US', 'name': 'United States of America'}]\"\n",
    "print(literal_eval(string))\n",
    "\n",
    "for elemento in df['production_countries']:\n",
    "    if pd.notnull(elemento):\n",
    "        if not(isinstance(eval(elemento), list)):\n",
    "            print(elemento)"
   ]
  },
  {
   "cell_type": "code",
   "execution_count": 101,
   "metadata": {},
   "outputs": [],
   "source": [
    "df['production_countries'] = df['production_countries'].apply( lambda x: literal_eval(x) if pd.notnull(x) else x )\n",
    "df['production_countries'] = df['production_countries'].apply( lambda x: [country['name'] for country in x] if isinstance(x,list) else list([]))"
   ]
  },
  {
   "cell_type": "code",
   "execution_count": 102,
   "metadata": {},
   "outputs": [
    {
     "data": {
      "text/plain": [
       "0                               [United States of America]\n",
       "1                               [United States of America]\n",
       "2                               [United States of America]\n",
       "3                               [United States of America]\n",
       "4                               [United States of America]\n",
       "                               ...                        \n",
       "45460    [Canada, Germany, United Kingdom, United State...\n",
       "45462                                        [Philippines]\n",
       "45463                           [United States of America]\n",
       "45464                                             [Russia]\n",
       "45465                                     [United Kingdom]\n",
       "Name: production_countries, Length: 45376, dtype: object"
      ]
     },
     "execution_count": 102,
     "metadata": {},
     "output_type": "execute_result"
    }
   ],
   "source": [
    "df.production_countries"
   ]
  },
  {
   "attachments": {},
   "cell_type": "markdown",
   "metadata": {},
   "source": [
    "DESANIDAMIENTO DE CAMPOS\n",
    "\n",
    "Campo: 'spoken_languages'\n",
    "\n",
    "Tipo de dato y formato inicial:\n",
    "\n",
    "<class 'str'>\n",
    "\n",
    "\"[{'iso_639_1': 'en', 'name': 'English'}, {'iso_639_1': 'fr', 'name': 'Français'}]\"\n",
    "\n",
    "En este caso, dada la prescencia de Paises escritos en otros idiomas, empleando caracteres especiales, como persas por ejemplos, se obtienen los formatos iso"
   ]
  },
  {
   "cell_type": "code",
   "execution_count": 103,
   "metadata": {},
   "outputs": [
    {
     "name": "stdout",
     "output_type": "stream",
     "text": [
      "[{'iso_639_1': 'en', 'name': 'English'}, {'iso_639_1': 'fr', 'name': 'Français'}]\n"
     ]
    }
   ],
   "source": [
    "string = \"[{'iso_639_1': 'en', 'name': 'English'}, {'iso_639_1': 'fr', 'name': 'Français'}]\"\n",
    "print(literal_eval(string))\n",
    "\n",
    "for elemento in df['spoken_languages']:\n",
    "    if pd.notnull(elemento):\n",
    "        if not(isinstance(literal_eval(elemento), list)):\n",
    "            print(elemento)"
   ]
  },
  {
   "cell_type": "code",
   "execution_count": 104,
   "metadata": {},
   "outputs": [],
   "source": [
    "df['spoken_languages'] = df['spoken_languages'].apply( lambda x: literal_eval(x) if pd.notnull(x) else x )\n",
    "df['spoken_languages'] = df['spoken_languages'].apply( lambda x: [lang['iso_639_1'] for lang in x] if isinstance(x,list) else list([]))"
   ]
  },
  {
   "cell_type": "code",
   "execution_count": 105,
   "metadata": {},
   "outputs": [
    {
     "data": {
      "text/plain": [
       "0            [en]\n",
       "1        [en, fr]\n",
       "2            [en]\n",
       "3            [en]\n",
       "4            [en]\n",
       "           ...   \n",
       "45460        [en]\n",
       "45462        [tl]\n",
       "45463        [en]\n",
       "45464          []\n",
       "45465        [en]\n",
       "Name: spoken_languages, Length: 45376, dtype: object"
      ]
     },
     "execution_count": 105,
     "metadata": {},
     "output_type": "execute_result"
    }
   ],
   "source": [
    "df.spoken_languages"
   ]
  },
  {
   "attachments": {},
   "cell_type": "markdown",
   "metadata": {},
   "source": [
    "Por ultimo y para simplicidad posterior del uso de los datos, principalmente aquellos que se uitilizan como entradas, se paso a minusculas todos los titulos de las peliculas, posteriormente se realizo lo mismo con los actores y directores asociados."
   ]
  },
  {
   "cell_type": "code",
   "execution_count": 106,
   "metadata": {},
   "outputs": [],
   "source": [
    "df['title'] = df['title'].apply(lambda x: x.title() if pd.notnull(x) else x)"
   ]
  },
  {
   "cell_type": "code",
   "execution_count": 107,
   "metadata": {},
   "outputs": [
    {
     "data": {
      "text/html": [
       "<div>\n",
       "<style scoped>\n",
       "    .dataframe tbody tr th:only-of-type {\n",
       "        vertical-align: middle;\n",
       "    }\n",
       "\n",
       "    .dataframe tbody tr th {\n",
       "        vertical-align: top;\n",
       "    }\n",
       "\n",
       "    .dataframe thead th {\n",
       "        text-align: right;\n",
       "    }\n",
       "</style>\n",
       "<table border=\"1\" class=\"dataframe\">\n",
       "  <thead>\n",
       "    <tr style=\"text-align: right;\">\n",
       "      <th></th>\n",
       "      <th>belongs_to_collection</th>\n",
       "      <th>budget</th>\n",
       "      <th>genres</th>\n",
       "      <th>id</th>\n",
       "      <th>original_language</th>\n",
       "      <th>overview</th>\n",
       "      <th>popularity</th>\n",
       "      <th>production_companies</th>\n",
       "      <th>production_countries</th>\n",
       "      <th>release_date</th>\n",
       "      <th>revenue</th>\n",
       "      <th>runtime</th>\n",
       "      <th>spoken_languages</th>\n",
       "      <th>status</th>\n",
       "      <th>tagline</th>\n",
       "      <th>title</th>\n",
       "      <th>vote_average</th>\n",
       "      <th>vote_count</th>\n",
       "      <th>release_year</th>\n",
       "      <th>return</th>\n",
       "    </tr>\n",
       "  </thead>\n",
       "  <tbody>\n",
       "    <tr>\n",
       "      <th>0</th>\n",
       "      <td>Toy Story Collection</td>\n",
       "      <td>30000000.0</td>\n",
       "      <td>[Animation, Comedy, Family]</td>\n",
       "      <td>862</td>\n",
       "      <td>en</td>\n",
       "      <td>Led by Woody, Andy's toys live happily in his ...</td>\n",
       "      <td>21.946943</td>\n",
       "      <td>[Pixar Animation Studios]</td>\n",
       "      <td>[United States of America]</td>\n",
       "      <td>1995-10-30</td>\n",
       "      <td>373554033.0</td>\n",
       "      <td>81.0</td>\n",
       "      <td>[en]</td>\n",
       "      <td>Released</td>\n",
       "      <td>NaN</td>\n",
       "      <td>Toy Story</td>\n",
       "      <td>7.7</td>\n",
       "      <td>5415.0</td>\n",
       "      <td>1995</td>\n",
       "      <td>12.451801</td>\n",
       "    </tr>\n",
       "    <tr>\n",
       "      <th>1</th>\n",
       "      <td></td>\n",
       "      <td>65000000.0</td>\n",
       "      <td>[Adventure, Fantasy, Family]</td>\n",
       "      <td>8844</td>\n",
       "      <td>en</td>\n",
       "      <td>When siblings Judy and Peter discover an encha...</td>\n",
       "      <td>17.015539</td>\n",
       "      <td>[TriStar Pictures, Teitler Film, Interscope Co...</td>\n",
       "      <td>[United States of America]</td>\n",
       "      <td>1995-12-15</td>\n",
       "      <td>262797249.0</td>\n",
       "      <td>104.0</td>\n",
       "      <td>[en, fr]</td>\n",
       "      <td>Released</td>\n",
       "      <td>Roll the dice and unleash the excitement!</td>\n",
       "      <td>Jumanji</td>\n",
       "      <td>6.9</td>\n",
       "      <td>2413.0</td>\n",
       "      <td>1995</td>\n",
       "      <td>4.043035</td>\n",
       "    </tr>\n",
       "    <tr>\n",
       "      <th>2</th>\n",
       "      <td>Grumpy Old Men Collection</td>\n",
       "      <td>0.0</td>\n",
       "      <td>[Romance, Comedy]</td>\n",
       "      <td>15602</td>\n",
       "      <td>en</td>\n",
       "      <td>A family wedding reignites the ancient feud be...</td>\n",
       "      <td>11.7129</td>\n",
       "      <td>[Warner Bros., Lancaster Gate]</td>\n",
       "      <td>[United States of America]</td>\n",
       "      <td>1995-12-22</td>\n",
       "      <td>0.0</td>\n",
       "      <td>101.0</td>\n",
       "      <td>[en]</td>\n",
       "      <td>Released</td>\n",
       "      <td>Still Yelling. Still Fighting. Still Ready for...</td>\n",
       "      <td>Grumpier Old Men</td>\n",
       "      <td>6.5</td>\n",
       "      <td>92.0</td>\n",
       "      <td>1995</td>\n",
       "      <td>0.000000</td>\n",
       "    </tr>\n",
       "    <tr>\n",
       "      <th>3</th>\n",
       "      <td></td>\n",
       "      <td>16000000.0</td>\n",
       "      <td>[Comedy, Drama, Romance]</td>\n",
       "      <td>31357</td>\n",
       "      <td>en</td>\n",
       "      <td>Cheated on, mistreated and stepped on, the wom...</td>\n",
       "      <td>3.859495</td>\n",
       "      <td>[Twentieth Century Fox Film Corporation]</td>\n",
       "      <td>[United States of America]</td>\n",
       "      <td>1995-12-22</td>\n",
       "      <td>81452156.0</td>\n",
       "      <td>127.0</td>\n",
       "      <td>[en]</td>\n",
       "      <td>Released</td>\n",
       "      <td>Friends are the people who let you be yourself...</td>\n",
       "      <td>Waiting To Exhale</td>\n",
       "      <td>6.1</td>\n",
       "      <td>34.0</td>\n",
       "      <td>1995</td>\n",
       "      <td>5.090760</td>\n",
       "    </tr>\n",
       "    <tr>\n",
       "      <th>4</th>\n",
       "      <td>Father of the Bride Collection</td>\n",
       "      <td>0.0</td>\n",
       "      <td>[Comedy]</td>\n",
       "      <td>11862</td>\n",
       "      <td>en</td>\n",
       "      <td>Just when George Banks has recovered from his ...</td>\n",
       "      <td>8.387519</td>\n",
       "      <td>[Sandollar Productions, Touchstone Pictures]</td>\n",
       "      <td>[United States of America]</td>\n",
       "      <td>1995-02-10</td>\n",
       "      <td>76578911.0</td>\n",
       "      <td>106.0</td>\n",
       "      <td>[en]</td>\n",
       "      <td>Released</td>\n",
       "      <td>Just When His World Is Back To Normal... He's ...</td>\n",
       "      <td>Father Of The Bride Part Ii</td>\n",
       "      <td>5.7</td>\n",
       "      <td>173.0</td>\n",
       "      <td>1995</td>\n",
       "      <td>0.000000</td>\n",
       "    </tr>\n",
       "  </tbody>\n",
       "</table>\n",
       "</div>"
      ],
      "text/plain": [
       "            belongs_to_collection      budget                        genres  \\\n",
       "0            Toy Story Collection  30000000.0   [Animation, Comedy, Family]   \n",
       "1                                  65000000.0  [Adventure, Fantasy, Family]   \n",
       "2       Grumpy Old Men Collection         0.0             [Romance, Comedy]   \n",
       "3                                  16000000.0      [Comedy, Drama, Romance]   \n",
       "4  Father of the Bride Collection         0.0                      [Comedy]   \n",
       "\n",
       "      id original_language                                           overview  \\\n",
       "0    862                en  Led by Woody, Andy's toys live happily in his ...   \n",
       "1   8844                en  When siblings Judy and Peter discover an encha...   \n",
       "2  15602                en  A family wedding reignites the ancient feud be...   \n",
       "3  31357                en  Cheated on, mistreated and stepped on, the wom...   \n",
       "4  11862                en  Just when George Banks has recovered from his ...   \n",
       "\n",
       "  popularity                               production_companies  \\\n",
       "0  21.946943                          [Pixar Animation Studios]   \n",
       "1  17.015539  [TriStar Pictures, Teitler Film, Interscope Co...   \n",
       "2    11.7129                     [Warner Bros., Lancaster Gate]   \n",
       "3   3.859495           [Twentieth Century Fox Film Corporation]   \n",
       "4   8.387519       [Sandollar Productions, Touchstone Pictures]   \n",
       "\n",
       "         production_countries release_date      revenue  runtime  \\\n",
       "0  [United States of America]   1995-10-30  373554033.0     81.0   \n",
       "1  [United States of America]   1995-12-15  262797249.0    104.0   \n",
       "2  [United States of America]   1995-12-22          0.0    101.0   \n",
       "3  [United States of America]   1995-12-22   81452156.0    127.0   \n",
       "4  [United States of America]   1995-02-10   76578911.0    106.0   \n",
       "\n",
       "  spoken_languages    status  \\\n",
       "0             [en]  Released   \n",
       "1         [en, fr]  Released   \n",
       "2             [en]  Released   \n",
       "3             [en]  Released   \n",
       "4             [en]  Released   \n",
       "\n",
       "                                             tagline  \\\n",
       "0                                                NaN   \n",
       "1          Roll the dice and unleash the excitement!   \n",
       "2  Still Yelling. Still Fighting. Still Ready for...   \n",
       "3  Friends are the people who let you be yourself...   \n",
       "4  Just When His World Is Back To Normal... He's ...   \n",
       "\n",
       "                         title  vote_average  vote_count  release_year  \\\n",
       "0                    Toy Story           7.7      5415.0          1995   \n",
       "1                      Jumanji           6.9      2413.0          1995   \n",
       "2             Grumpier Old Men           6.5        92.0          1995   \n",
       "3            Waiting To Exhale           6.1        34.0          1995   \n",
       "4  Father Of The Bride Part Ii           5.7       173.0          1995   \n",
       "\n",
       "      return  \n",
       "0  12.451801  \n",
       "1   4.043035  \n",
       "2   0.000000  \n",
       "3   5.090760  \n",
       "4   0.000000  "
      ]
     },
     "execution_count": 107,
     "metadata": {},
     "output_type": "execute_result"
    }
   ],
   "source": [
    "df.head()"
   ]
  },
  {
   "attachments": {},
   "cell_type": "markdown",
   "metadata": {},
   "source": [
    "ELIMINACION DE DUPLICADOS\n",
    "\n",
    "Se analizo el dataset, donde se observo una triada de un registro duplicado y varios duplicados en pareja."
   ]
  },
  {
   "cell_type": "code",
   "execution_count": 108,
   "metadata": {},
   "outputs": [
    {
     "data": {
      "text/plain": [
       "count      45376\n",
       "unique     45346\n",
       "top       141971\n",
       "freq           3\n",
       "Name: id, dtype: object"
      ]
     },
     "execution_count": 108,
     "metadata": {},
     "output_type": "execute_result"
    }
   ],
   "source": [
    "df['id'].describe()"
   ]
  },
  {
   "cell_type": "code",
   "execution_count": 109,
   "metadata": {},
   "outputs": [
    {
     "data": {
      "text/plain": [
       "0"
      ]
     },
     "execution_count": 109,
     "metadata": {},
     "output_type": "execute_result"
    }
   ],
   "source": [
    "df.id.isna().sum()"
   ]
  },
  {
   "cell_type": "code",
   "execution_count": 110,
   "metadata": {},
   "outputs": [],
   "source": [
    "# df = df.sort_values('id')\n",
    "# df = df[ ~df.duplicated(subset=['revenue', 'runtime', 'release_date', 'tagline', 'title','overview' ], keep='first')] # De esta forma me quedo con los que poseen id, dados que estan primeros en el orden"
   ]
  },
  {
   "cell_type": "code",
   "execution_count": 111,
   "metadata": {},
   "outputs": [],
   "source": [
    "df = df[ ~df.duplicated(subset=['id'], keep='first')]"
   ]
  },
  {
   "cell_type": "code",
   "execution_count": 112,
   "metadata": {},
   "outputs": [
    {
     "data": {
      "text/plain": [
       "count     45346\n",
       "unique    45346\n",
       "top         862\n",
       "freq          1\n",
       "Name: id, dtype: object"
      ]
     },
     "execution_count": 112,
     "metadata": {},
     "output_type": "execute_result"
    }
   ],
   "source": [
    "df['id'].describe()"
   ]
  },
  {
   "attachments": {},
   "cell_type": "markdown",
   "metadata": {},
   "source": [
    "TRABAJANDO CON EL DATASET DE CREDITS\n",
    "\n",
    "En este caso necesitamos para el trabajo posterior la lista de actores y su director y el id correspondiente a la pelicula."
   ]
  },
  {
   "cell_type": "code",
   "execution_count": 113,
   "metadata": {},
   "outputs": [
    {
     "data": {
      "text/html": [
       "<div>\n",
       "<style scoped>\n",
       "    .dataframe tbody tr th:only-of-type {\n",
       "        vertical-align: middle;\n",
       "    }\n",
       "\n",
       "    .dataframe tbody tr th {\n",
       "        vertical-align: top;\n",
       "    }\n",
       "\n",
       "    .dataframe thead th {\n",
       "        text-align: right;\n",
       "    }\n",
       "</style>\n",
       "<table border=\"1\" class=\"dataframe\">\n",
       "  <thead>\n",
       "    <tr style=\"text-align: right;\">\n",
       "      <th></th>\n",
       "      <th>cast</th>\n",
       "      <th>crew</th>\n",
       "      <th>id</th>\n",
       "    </tr>\n",
       "  </thead>\n",
       "  <tbody>\n",
       "    <tr>\n",
       "      <th>0</th>\n",
       "      <td>[{'cast_id': 14, 'character': 'Woody (voice)',...</td>\n",
       "      <td>[{'credit_id': '52fe4284c3a36847f8024f49', 'de...</td>\n",
       "      <td>862</td>\n",
       "    </tr>\n",
       "    <tr>\n",
       "      <th>1</th>\n",
       "      <td>[{'cast_id': 1, 'character': 'Alan Parrish', '...</td>\n",
       "      <td>[{'credit_id': '52fe44bfc3a36847f80a7cd1', 'de...</td>\n",
       "      <td>8844</td>\n",
       "    </tr>\n",
       "    <tr>\n",
       "      <th>2</th>\n",
       "      <td>[{'cast_id': 2, 'character': 'Max Goldman', 'c...</td>\n",
       "      <td>[{'credit_id': '52fe466a9251416c75077a89', 'de...</td>\n",
       "      <td>15602</td>\n",
       "    </tr>\n",
       "    <tr>\n",
       "      <th>3</th>\n",
       "      <td>[{'cast_id': 1, 'character': \"Savannah 'Vannah...</td>\n",
       "      <td>[{'credit_id': '52fe44779251416c91011acb', 'de...</td>\n",
       "      <td>31357</td>\n",
       "    </tr>\n",
       "    <tr>\n",
       "      <th>4</th>\n",
       "      <td>[{'cast_id': 1, 'character': 'George Banks', '...</td>\n",
       "      <td>[{'credit_id': '52fe44959251416c75039ed7', 'de...</td>\n",
       "      <td>11862</td>\n",
       "    </tr>\n",
       "  </tbody>\n",
       "</table>\n",
       "</div>"
      ],
      "text/plain": [
       "                                                cast  \\\n",
       "0  [{'cast_id': 14, 'character': 'Woody (voice)',...   \n",
       "1  [{'cast_id': 1, 'character': 'Alan Parrish', '...   \n",
       "2  [{'cast_id': 2, 'character': 'Max Goldman', 'c...   \n",
       "3  [{'cast_id': 1, 'character': \"Savannah 'Vannah...   \n",
       "4  [{'cast_id': 1, 'character': 'George Banks', '...   \n",
       "\n",
       "                                                crew     id  \n",
       "0  [{'credit_id': '52fe4284c3a36847f8024f49', 'de...    862  \n",
       "1  [{'credit_id': '52fe44bfc3a36847f80a7cd1', 'de...   8844  \n",
       "2  [{'credit_id': '52fe466a9251416c75077a89', 'de...  15602  \n",
       "3  [{'credit_id': '52fe44779251416c91011acb', 'de...  31357  \n",
       "4  [{'credit_id': '52fe44959251416c75039ed7', 'de...  11862  "
      ]
     },
     "execution_count": 113,
     "metadata": {},
     "output_type": "execute_result"
    }
   ],
   "source": [
    "df2 = pd.read_csv(\"data/credits.csv\")\n",
    "df2.head()"
   ]
  },
  {
   "attachments": {},
   "cell_type": "markdown",
   "metadata": {},
   "source": [
    "DESANIDAMIENTO DE CAMPOS\n",
    "\n",
    "Campo: 'cast'\n",
    "\n",
    "Tipo de dato y formato inicial:\n",
    "\n",
    "<class 'str'>\n",
    "\n",
    "\"[{'cast_id': 14, 'character': 'Woody (voice)', 'credit_id': '52fe4284c3a36847f8024f95', 'gender': 2, 'id': 31, 'name': 'Tom Hanks', 'order': 0, 'profile_path': '/pQFoyx7rp09CJTAb932F2g8Nlho.jpg'}, {'cast_id': 15, 'character': 'Buzz Lightyear (voice)', 'credit_id': '52fe4284c3a36847f8024f99', 'gender': 2, 'id': 12898, 'name': 'Tim Allen', 'order': 1, 'profile_path': '/uX2xVf6pMmPepxnvFWyBtjexzgY.jpg'}, {'cast_id': 16, 'character': 'Mr. Potato Head (voice)', 'credit_id': '52fe4284c3a36847f8024f9d', 'gender': 2, 'id': 7167, 'name': 'Don Rickles', 'order': 2, 'profile_path': '/h5BcaDMPRVLHLDzbQavec4xfSdt.jpg'}, {'cast_id': 17, 'character': 'Slinky Dog (voice)', 'credit_id': '52fe4284c3a36847f8024fa1', 'gender': 2, 'id': 12899, 'name': 'Jim Varney', 'order': 3, 'profile_path': '/eIo2jVVXYgjDtaHoF19Ll9vtW7h.jpg'}, {'cast_id': 18, 'character': 'Rex (voice)', 'credit_id': '52fe4284c3a36847f8024fa5', 'gender': 2, 'id': 12900, 'name': 'Wallace Shawn', 'order': 4, 'profile_path': '/oGE6JqPP2xH4tNORKNqxbNPYi7u.jpg'} ....\n"
   ]
  },
  {
   "cell_type": "code",
   "execution_count": 114,
   "metadata": {},
   "outputs": [],
   "source": [
    "df2['cast'] = df2['cast'].apply( lambda x: [ actor['name'].title() for actor in literal_eval(x) ] if pd.notnull(x) else list([]) )\n"
   ]
  },
  {
   "cell_type": "code",
   "execution_count": 115,
   "metadata": {},
   "outputs": [
    {
     "data": {
      "text/plain": [
       "list"
      ]
     },
     "execution_count": 115,
     "metadata": {},
     "output_type": "execute_result"
    }
   ],
   "source": [
    "type(df2['cast'].iloc[0])"
   ]
  },
  {
   "attachments": {},
   "cell_type": "markdown",
   "metadata": {},
   "source": [
    "DESANIDAMIENTO DE CAMPOS\n",
    "\n",
    "Campo: 'crew'\n",
    "\n",
    "Tipo de dato y formato inicial:\n",
    "\n",
    "<class 'str'>\n",
    "\n",
    "\n",
    "'[{\\'credit_id\\': \\'52fe4284c3a36847f8024f49\\', \\'department\\': \\'Directing\\', \\'gender\\': 2, \\'id\\': 7879, \\'job\\': \\'Director\\', \\'name\\': \\'John Lasseter\\', \\'profile_path\\': \\'/7EdqiNbr4FRjIhKHyPPdFfEEEFG.jpg\\'}, {\\'credit_id\\': \\'52fe4284c3a36847f8024f4f\\', \\'department\\': \\'Writing\\', \\'gender\\': 2, \\'id\\': 12891, \\'job\\': \\'Screenplay\\', \\'name\\': \\'Joss Whedon\\', \\'profile_path\\': \\'/dTiVsuaTVTeGmvkhcyJvKp2A5kr.jpg\\'},...\""
   ]
  },
  {
   "cell_type": "code",
   "execution_count": 116,
   "metadata": {},
   "outputs": [],
   "source": [
    "#Me tengo que quedar con el director --> \\'job\\': \\'Director\\', \\'name\\':\n",
    "# Existen casos con más de un director, por eso lista\n",
    "df2['director'] = df2['crew'].apply( lambda x: [ data['name'].title() for data in eval(x) if data['job'] == 'Director' ] if pd.notnull(x) else list([]))"
   ]
  },
  {
   "cell_type": "code",
   "execution_count": 117,
   "metadata": {},
   "outputs": [],
   "source": [
    "df2.drop(columns = ['crew'], inplace = True)"
   ]
  },
  {
   "attachments": {},
   "cell_type": "markdown",
   "metadata": {},
   "source": [
    "ELIMINACION DE DUPLICADOS\n",
    "\n",
    "Se verifica con el describe y el value_count para agrupar los duplicados. Se verifica con la lista de indices en algunos casos para posteriormente eliminarlos.\n",
    "\n",
    "Cabe mencionar que en este dataset no se encontaron campos nulos"
   ]
  },
  {
   "cell_type": "code",
   "execution_count": 118,
   "metadata": {},
   "outputs": [
    {
     "data": {
      "text/plain": [
       "cast        0\n",
       "id          0\n",
       "director    0\n",
       "dtype: int64"
      ]
     },
     "execution_count": 118,
     "metadata": {},
     "output_type": "execute_result"
    }
   ],
   "source": [
    "df2.isna().sum()"
   ]
  },
  {
   "cell_type": "code",
   "execution_count": 119,
   "metadata": {},
   "outputs": [
    {
     "data": {
      "text/plain": [
       "count      45476\n",
       "unique     45432\n",
       "top       141971\n",
       "freq           3\n",
       "Name: id, dtype: object"
      ]
     },
     "execution_count": 119,
     "metadata": {},
     "output_type": "execute_result"
    }
   ],
   "source": [
    "df2['id'].astype(str).describe()"
   ]
  },
  {
   "cell_type": "code",
   "execution_count": 120,
   "metadata": {},
   "outputs": [
    {
     "data": {
      "text/plain": [
       "id\n",
       "141971    3\n",
       "298721    2\n",
       "9755      2\n",
       "10991     2\n",
       "99080     2\n",
       "         ..\n",
       "55135     1\n",
       "15877     1\n",
       "72272     1\n",
       "1549      1\n",
       "461257    1\n",
       "Name: count, Length: 45432, dtype: int64"
      ]
     },
     "execution_count": 120,
     "metadata": {},
     "output_type": "execute_result"
    }
   ],
   "source": [
    "df2['id'].astype(str).value_counts()"
   ]
  },
  {
   "cell_type": "code",
   "execution_count": 121,
   "metadata": {},
   "outputs": [
    {
     "data": {
      "text/html": [
       "<div>\n",
       "<style scoped>\n",
       "    .dataframe tbody tr th:only-of-type {\n",
       "        vertical-align: middle;\n",
       "    }\n",
       "\n",
       "    .dataframe tbody tr th {\n",
       "        vertical-align: top;\n",
       "    }\n",
       "\n",
       "    .dataframe thead th {\n",
       "        text-align: right;\n",
       "    }\n",
       "</style>\n",
       "<table border=\"1\" class=\"dataframe\">\n",
       "  <thead>\n",
       "    <tr style=\"text-align: right;\">\n",
       "      <th></th>\n",
       "      <th>cast</th>\n",
       "      <th>id</th>\n",
       "      <th>director</th>\n",
       "    </tr>\n",
       "  </thead>\n",
       "  <tbody>\n",
       "    <tr>\n",
       "      <th>13261</th>\n",
       "      <td>[Petteri Summanen, Ismo Kallio, Eppu Salminen,...</td>\n",
       "      <td>141971</td>\n",
       "      <td>[Jp Siili]</td>\n",
       "    </tr>\n",
       "    <tr>\n",
       "      <th>13375</th>\n",
       "      <td>[Petteri Summanen, Ismo Kallio, Eppu Salminen,...</td>\n",
       "      <td>141971</td>\n",
       "      <td>[Jp Siili]</td>\n",
       "    </tr>\n",
       "    <tr>\n",
       "      <th>16764</th>\n",
       "      <td>[Petteri Summanen, Ismo Kallio, Eppu Salminen,...</td>\n",
       "      <td>141971</td>\n",
       "      <td>[Jp Siili]</td>\n",
       "    </tr>\n",
       "  </tbody>\n",
       "</table>\n",
       "</div>"
      ],
      "text/plain": [
       "                                                    cast      id    director\n",
       "13261  [Petteri Summanen, Ismo Kallio, Eppu Salminen,...  141971  [Jp Siili]\n",
       "13375  [Petteri Summanen, Ismo Kallio, Eppu Salminen,...  141971  [Jp Siili]\n",
       "16764  [Petteri Summanen, Ismo Kallio, Eppu Salminen,...  141971  [Jp Siili]"
      ]
     },
     "execution_count": 121,
     "metadata": {},
     "output_type": "execute_result"
    }
   ],
   "source": [
    "df2[df2.id == 141971] #Confirmación de duplicidad"
   ]
  },
  {
   "cell_type": "code",
   "execution_count": 122,
   "metadata": {},
   "outputs": [],
   "source": [
    "df2 = df2[~df2.id.duplicated(keep='first')] # Eliminación manteniendo la primer aparición, el caracter ~ es negación"
   ]
  },
  {
   "cell_type": "code",
   "execution_count": 123,
   "metadata": {},
   "outputs": [
    {
     "data": {
      "text/plain": [
       "count     45432\n",
       "unique    45432\n",
       "top         862\n",
       "freq          1\n",
       "Name: id, dtype: object"
      ]
     },
     "execution_count": 123,
     "metadata": {},
     "output_type": "execute_result"
    }
   ],
   "source": [
    "df2.id.astype(str).describe()"
   ]
  },
  {
   "cell_type": "code",
   "execution_count": 124,
   "metadata": {},
   "outputs": [
    {
     "data": {
      "text/plain": [
       "Index(['cast', 'id', 'director'], dtype='object')"
      ]
     },
     "execution_count": 124,
     "metadata": {},
     "output_type": "execute_result"
    }
   ],
   "source": [
    "df2.columns"
   ]
  },
  {
   "attachments": {},
   "cell_type": "markdown",
   "metadata": {},
   "source": [
    "ANTES DE GUARDAR LOS DATASET GENERADOS, SE PROCEDE A COMPARA UN REGISTRO CRUZANDO LA DATA DE AMBOS, TENIENDO EN CUENTA ESTO PARA REALIZAR UN MERGE Y QUEDARNOS CON LA DATA YA CRUZADA EN UN NUEVO DATASET GENERAL, AGILIZANDO DE ESTA MANERA LA RESPUESTA POSTERIOR DE LA API"
   ]
  },
  {
   "cell_type": "code",
   "execution_count": 125,
   "metadata": {},
   "outputs": [
    {
     "data": {
      "text/html": [
       "<div>\n",
       "<style scoped>\n",
       "    .dataframe tbody tr th:only-of-type {\n",
       "        vertical-align: middle;\n",
       "    }\n",
       "\n",
       "    .dataframe tbody tr th {\n",
       "        vertical-align: top;\n",
       "    }\n",
       "\n",
       "    .dataframe thead th {\n",
       "        text-align: right;\n",
       "    }\n",
       "</style>\n",
       "<table border=\"1\" class=\"dataframe\">\n",
       "  <thead>\n",
       "    <tr style=\"text-align: right;\">\n",
       "      <th></th>\n",
       "      <th>cast</th>\n",
       "      <th>id</th>\n",
       "      <th>director</th>\n",
       "    </tr>\n",
       "  </thead>\n",
       "  <tbody>\n",
       "    <tr>\n",
       "      <th>153</th>\n",
       "      <td>[Harvey Keitel, Lou Reed, Michael J. Fox, Rose...</td>\n",
       "      <td>5894</td>\n",
       "      <td>[Paul Auster, Wayne Wang]</td>\n",
       "    </tr>\n",
       "  </tbody>\n",
       "</table>\n",
       "</div>"
      ],
      "text/plain": [
       "                                                  cast    id  \\\n",
       "153  [Harvey Keitel, Lou Reed, Michael J. Fox, Rose...  5894   \n",
       "\n",
       "                      director  \n",
       "153  [Paul Auster, Wayne Wang]  "
      ]
     },
     "execution_count": 125,
     "metadata": {},
     "output_type": "execute_result"
    }
   ],
   "source": [
    "df2[ df2['id'] == 5894]"
   ]
  },
  {
   "cell_type": "code",
   "execution_count": 126,
   "metadata": {},
   "outputs": [
    {
     "data": {
      "text/html": [
       "<div>\n",
       "<style scoped>\n",
       "    .dataframe tbody tr th:only-of-type {\n",
       "        vertical-align: middle;\n",
       "    }\n",
       "\n",
       "    .dataframe tbody tr th {\n",
       "        vertical-align: top;\n",
       "    }\n",
       "\n",
       "    .dataframe thead th {\n",
       "        text-align: right;\n",
       "    }\n",
       "</style>\n",
       "<table border=\"1\" class=\"dataframe\">\n",
       "  <thead>\n",
       "    <tr style=\"text-align: right;\">\n",
       "      <th></th>\n",
       "      <th>belongs_to_collection</th>\n",
       "      <th>budget</th>\n",
       "      <th>genres</th>\n",
       "      <th>id</th>\n",
       "      <th>original_language</th>\n",
       "      <th>overview</th>\n",
       "      <th>popularity</th>\n",
       "      <th>production_companies</th>\n",
       "      <th>production_countries</th>\n",
       "      <th>release_date</th>\n",
       "      <th>revenue</th>\n",
       "      <th>runtime</th>\n",
       "      <th>spoken_languages</th>\n",
       "      <th>status</th>\n",
       "      <th>tagline</th>\n",
       "      <th>title</th>\n",
       "      <th>vote_average</th>\n",
       "      <th>vote_count</th>\n",
       "      <th>release_year</th>\n",
       "      <th>return</th>\n",
       "    </tr>\n",
       "  </thead>\n",
       "  <tbody>\n",
       "    <tr>\n",
       "      <th>153</th>\n",
       "      <td>Brooklyn Cigar Store Collection</td>\n",
       "      <td>2000000.0</td>\n",
       "      <td>[Comedy]</td>\n",
       "      <td>5894</td>\n",
       "      <td>en</td>\n",
       "      <td>Auggie runs a small tobacco shop in Brooklyn, ...</td>\n",
       "      <td>11.528147</td>\n",
       "      <td>[Miramax Films, InterAL]</td>\n",
       "      <td>[United States of America]</td>\n",
       "      <td>1995-09-15</td>\n",
       "      <td>1275000.0</td>\n",
       "      <td>83.0</td>\n",
       "      <td>[en]</td>\n",
       "      <td>Released</td>\n",
       "      <td>Welcome to the planet Brooklyn.</td>\n",
       "      <td>Blue In The Face</td>\n",
       "      <td>6.8</td>\n",
       "      <td>28.0</td>\n",
       "      <td>1995</td>\n",
       "      <td>0.6375</td>\n",
       "    </tr>\n",
       "  </tbody>\n",
       "</table>\n",
       "</div>"
      ],
      "text/plain": [
       "               belongs_to_collection     budget    genres    id  \\\n",
       "153  Brooklyn Cigar Store Collection  2000000.0  [Comedy]  5894   \n",
       "\n",
       "    original_language                                           overview  \\\n",
       "153                en  Auggie runs a small tobacco shop in Brooklyn, ...   \n",
       "\n",
       "    popularity      production_companies        production_countries  \\\n",
       "153  11.528147  [Miramax Films, InterAL]  [United States of America]   \n",
       "\n",
       "    release_date    revenue  runtime spoken_languages    status  \\\n",
       "153   1995-09-15  1275000.0     83.0             [en]  Released   \n",
       "\n",
       "                             tagline             title  vote_average  \\\n",
       "153  Welcome to the planet Brooklyn.  Blue In The Face           6.8   \n",
       "\n",
       "     vote_count  release_year  return  \n",
       "153        28.0          1995  0.6375  "
      ]
     },
     "execution_count": 126,
     "metadata": {},
     "output_type": "execute_result"
    }
   ],
   "source": [
    "df[df['id'] == '5894']"
   ]
  },
  {
   "attachments": {},
   "cell_type": "markdown",
   "metadata": {},
   "source": [
    "Dada incongruencias en los tipos de datos, es necesario castear unas featuers, para lograr congruencia y a la vez compatibilidad entre los df para que el cruce de los datos sea viables"
   ]
  },
  {
   "cell_type": "code",
   "execution_count": 127,
   "metadata": {},
   "outputs": [
    {
     "name": "stdout",
     "output_type": "stream",
     "text": [
      "<class 'pandas.core.frame.DataFrame'>\n",
      "Index: 45346 entries, 0 to 45465\n",
      "Data columns (total 20 columns):\n",
      " #   Column                 Non-Null Count  Dtype         \n",
      "---  ------                 --------------  -----         \n",
      " 0   belongs_to_collection  45346 non-null  object        \n",
      " 1   budget                 45346 non-null  float64       \n",
      " 2   genres                 45346 non-null  object        \n",
      " 3   id                     45346 non-null  object        \n",
      " 4   original_language      45335 non-null  object        \n",
      " 5   overview               44405 non-null  object        \n",
      " 6   popularity             45346 non-null  object        \n",
      " 7   production_companies   45346 non-null  object        \n",
      " 8   production_countries   45346 non-null  object        \n",
      " 9   release_date           45346 non-null  datetime64[ns]\n",
      " 10  revenue                45346 non-null  float64       \n",
      " 11  runtime                45100 non-null  float64       \n",
      " 12  spoken_languages       45346 non-null  object        \n",
      " 13  status                 45266 non-null  object        \n",
      " 14  tagline                20387 non-null  object        \n",
      " 15  title                  45346 non-null  object        \n",
      " 16  vote_average           45346 non-null  float64       \n",
      " 17  vote_count             45346 non-null  float64       \n",
      " 18  release_year           45346 non-null  int64         \n",
      " 19  return                 45346 non-null  float64       \n",
      "dtypes: datetime64[ns](1), float64(6), int64(1), object(12)\n",
      "memory usage: 7.3+ MB\n"
     ]
    }
   ],
   "source": [
    "df.info()"
   ]
  },
  {
   "cell_type": "code",
   "execution_count": 128,
   "metadata": {},
   "outputs": [
    {
     "name": "stdout",
     "output_type": "stream",
     "text": [
      "<class 'pandas.core.frame.DataFrame'>\n",
      "Index: 45432 entries, 0 to 45475\n",
      "Data columns (total 3 columns):\n",
      " #   Column    Non-Null Count  Dtype \n",
      "---  ------    --------------  ----- \n",
      " 0   cast      45432 non-null  object\n",
      " 1   id        45432 non-null  int64 \n",
      " 2   director  45432 non-null  object\n",
      "dtypes: int64(1), object(2)\n",
      "memory usage: 1.4+ MB\n"
     ]
    }
   ],
   "source": [
    "df2.info()"
   ]
  },
  {
   "cell_type": "code",
   "execution_count": 129,
   "metadata": {},
   "outputs": [],
   "source": [
    "df.popularity = df.popularity.astype(float)"
   ]
  },
  {
   "cell_type": "code",
   "execution_count": 130,
   "metadata": {},
   "outputs": [],
   "source": [
    "df.id = df.id.astype(int)"
   ]
  },
  {
   "cell_type": "code",
   "execution_count": 131,
   "metadata": {},
   "outputs": [
    {
     "name": "stdout",
     "output_type": "stream",
     "text": [
      "<class 'pandas.core.frame.DataFrame'>\n",
      "Index: 45346 entries, 0 to 45465\n",
      "Data columns (total 20 columns):\n",
      " #   Column                 Non-Null Count  Dtype         \n",
      "---  ------                 --------------  -----         \n",
      " 0   belongs_to_collection  45346 non-null  object        \n",
      " 1   budget                 45346 non-null  float64       \n",
      " 2   genres                 45346 non-null  object        \n",
      " 3   id                     45346 non-null  int32         \n",
      " 4   original_language      45335 non-null  object        \n",
      " 5   overview               44405 non-null  object        \n",
      " 6   popularity             45346 non-null  float64       \n",
      " 7   production_companies   45346 non-null  object        \n",
      " 8   production_countries   45346 non-null  object        \n",
      " 9   release_date           45346 non-null  datetime64[ns]\n",
      " 10  revenue                45346 non-null  float64       \n",
      " 11  runtime                45100 non-null  float64       \n",
      " 12  spoken_languages       45346 non-null  object        \n",
      " 13  status                 45266 non-null  object        \n",
      " 14  tagline                20387 non-null  object        \n",
      " 15  title                  45346 non-null  object        \n",
      " 16  vote_average           45346 non-null  float64       \n",
      " 17  vote_count             45346 non-null  float64       \n",
      " 18  release_year           45346 non-null  int64         \n",
      " 19  return                 45346 non-null  float64       \n",
      "dtypes: datetime64[ns](1), float64(7), int32(1), int64(1), object(10)\n",
      "memory usage: 7.1+ MB\n"
     ]
    }
   ],
   "source": [
    "df.info()"
   ]
  },
  {
   "cell_type": "code",
   "execution_count": 132,
   "metadata": {},
   "outputs": [
    {
     "name": "stdout",
     "output_type": "stream",
     "text": [
      "<class 'pandas.core.frame.DataFrame'>\n",
      "Index: 45432 entries, 0 to 45475\n",
      "Data columns (total 3 columns):\n",
      " #   Column    Non-Null Count  Dtype \n",
      "---  ------    --------------  ----- \n",
      " 0   cast      45432 non-null  object\n",
      " 1   id        45432 non-null  int64 \n",
      " 2   director  45432 non-null  object\n",
      "dtypes: int64(1), object(2)\n",
      "memory usage: 1.4+ MB\n"
     ]
    }
   ],
   "source": [
    "df2.info()"
   ]
  },
  {
   "cell_type": "code",
   "execution_count": 133,
   "metadata": {},
   "outputs": [],
   "source": [
    "df.to_csv('data/cleanMovies.csv', index=False, date_format=\"%Y-%m-%d\")\n",
    "df2.to_csv('data/cleanCredits.csv', index=False)"
   ]
  },
  {
   "cell_type": "code",
   "execution_count": 134,
   "metadata": {},
   "outputs": [
    {
     "data": {
      "text/plain": [
       "(45345, 22)"
      ]
     },
     "execution_count": 134,
     "metadata": {},
     "output_type": "execute_result"
    }
   ],
   "source": [
    "dfFinal = pd.merge(df, df2, on='id', how='inner')\n",
    "dfFinal.shape"
   ]
  },
  {
   "cell_type": "code",
   "execution_count": 135,
   "metadata": {},
   "outputs": [],
   "source": [
    "dfFinal.to_csv('data/cleanMergedData.csv', index=False, date_format=\"%Y-%m-%d\")"
   ]
  },
  {
   "attachments": {},
   "cell_type": "markdown",
   "metadata": {},
   "source": [
    "Se tomo la decisión de descartar los datos sin data_release dado que uno de los endpoints del proyecto solicita trabajar con dicho campo, por ende evitando salidas erroneas se deja el tratamiento de dichos datos de manera más especifica para otra etapa del proyecto, por ejemplo, la incorporación posterior de más datos. Sin embargo dichos datos se trataran y se imputaran, marcandolos como corresponde; de manera tal de tenerlos en cuenta, si se solicita para los otros endpoints u pasos posteriores que pudiesen surgir. "
   ]
  },
  {
   "attachments": {},
   "cell_type": "markdown",
   "metadata": {},
   "source": [
    "Además, cabe mencionar que se encontraron 6 filas con una carateristica distinta, donde se observa el desfase de unos datos, analizando en profundidad se encontro que son dos filas completas separadas en dos, ocasionando disturbios en los procesamientos. Sin embargo, dado el desfase, estas fueron extraidas junto con las filas sin release_date.\n",
    "Las filas en cuestión, a modo de mencion, son las siguientes.\n",
    "\n",
    "[19729, 29502, 35586] --> primeras partes de los datos\n",
    "\n",
    "[19730, 29503, 35587] --> segunda parte de los datos anteriores pero ubicadas en las primeras columnas\n",
    "\n",
    "Si bien estos datos no se trataron se muestran a modo de tener en cuenta a futuro en las areas correspondientes de la maniupulación y curación de datos."
   ]
  },
  {
   "cell_type": "code",
   "execution_count": 136,
   "metadata": {},
   "outputs": [
    {
     "data": {
      "text/plain": [
       "Index(['adult', 'belongs_to_collection', 'budget', 'genres', 'homepage', 'id',\n",
       "       'imdb_id', 'original_language', 'original_title', 'overview',\n",
       "       'popularity', 'poster_path', 'production_companies',\n",
       "       'production_countries', 'release_date', 'revenue', 'runtime',\n",
       "       'spoken_languages', 'status', 'tagline', 'title', 'video',\n",
       "       'vote_average', 'vote_count'],\n",
       "      dtype='object')"
      ]
     },
     "execution_count": 136,
     "metadata": {},
     "output_type": "execute_result"
    }
   ],
   "source": [
    "dfNAN.columns"
   ]
  },
  {
   "cell_type": "code",
   "execution_count": 137,
   "metadata": {},
   "outputs": [
    {
     "data": {
      "text/html": [
       "<div>\n",
       "<style scoped>\n",
       "    .dataframe tbody tr th:only-of-type {\n",
       "        vertical-align: middle;\n",
       "    }\n",
       "\n",
       "    .dataframe tbody tr th {\n",
       "        vertical-align: top;\n",
       "    }\n",
       "\n",
       "    .dataframe thead th {\n",
       "        text-align: right;\n",
       "    }\n",
       "</style>\n",
       "<table border=\"1\" class=\"dataframe\">\n",
       "  <thead>\n",
       "    <tr style=\"text-align: right;\">\n",
       "      <th></th>\n",
       "      <th>adult</th>\n",
       "      <th>belongs_to_collection</th>\n",
       "      <th>budget</th>\n",
       "      <th>genres</th>\n",
       "      <th>homepage</th>\n",
       "      <th>id</th>\n",
       "      <th>imdb_id</th>\n",
       "      <th>original_language</th>\n",
       "      <th>original_title</th>\n",
       "      <th>overview</th>\n",
       "    </tr>\n",
       "  </thead>\n",
       "  <tbody>\n",
       "    <tr>\n",
       "      <th>19729</th>\n",
       "      <td>False</td>\n",
       "      <td>NaN</td>\n",
       "      <td>0</td>\n",
       "      <td>[{'id': 28, 'name': 'Action'}, {'id': 53, 'nam...</td>\n",
       "      <td>NaN</td>\n",
       "      <td>82663</td>\n",
       "      <td>tt0113002</td>\n",
       "      <td>en</td>\n",
       "      <td>Midnight Man</td>\n",
       "      <td>British soldiers force a recently captured IRA...</td>\n",
       "    </tr>\n",
       "    <tr>\n",
       "      <th>29502</th>\n",
       "      <td>False</td>\n",
       "      <td>{'id': 122661, 'name': 'Mardock Scramble Colle...</td>\n",
       "      <td>0</td>\n",
       "      <td>[{'id': 16, 'name': 'Animation'}, {'id': 878, ...</td>\n",
       "      <td>http://m-scramble.jp/exhaust/</td>\n",
       "      <td>122662</td>\n",
       "      <td>tt2423504</td>\n",
       "      <td>ja</td>\n",
       "      <td>マルドゥック・スクランブル 排気</td>\n",
       "      <td>Third film of the Mardock Scramble series.</td>\n",
       "    </tr>\n",
       "    <tr>\n",
       "      <th>35586</th>\n",
       "      <td>False</td>\n",
       "      <td>NaN</td>\n",
       "      <td>0</td>\n",
       "      <td>[{'id': 10770, 'name': 'TV Movie'}, {'id': 28,...</td>\n",
       "      <td>NaN</td>\n",
       "      <td>249260</td>\n",
       "      <td>tt2622826</td>\n",
       "      <td>en</td>\n",
       "      <td>Avalanche Sharks</td>\n",
       "      <td>A group of skiers are terrorized during spring...</td>\n",
       "    </tr>\n",
       "  </tbody>\n",
       "</table>\n",
       "</div>"
      ],
      "text/plain": [
       "       adult                              belongs_to_collection budget  \\\n",
       "19729  False                                                NaN      0   \n",
       "29502  False  {'id': 122661, 'name': 'Mardock Scramble Colle...      0   \n",
       "35586  False                                                NaN      0   \n",
       "\n",
       "                                                  genres  \\\n",
       "19729  [{'id': 28, 'name': 'Action'}, {'id': 53, 'nam...   \n",
       "29502  [{'id': 16, 'name': 'Animation'}, {'id': 878, ...   \n",
       "35586  [{'id': 10770, 'name': 'TV Movie'}, {'id': 28,...   \n",
       "\n",
       "                            homepage      id    imdb_id original_language  \\\n",
       "19729                            NaN   82663  tt0113002                en   \n",
       "29502  http://m-scramble.jp/exhaust/  122662  tt2423504                ja   \n",
       "35586                            NaN  249260  tt2622826                en   \n",
       "\n",
       "         original_title                                           overview  \n",
       "19729      Midnight Man  British soldiers force a recently captured IRA...  \n",
       "29502  マルドゥック・スクランブル 排気         Third film of the Mardock Scramble series.  \n",
       "35586  Avalanche Sharks  A group of skiers are terrorized during spring...  "
      ]
     },
     "execution_count": 137,
     "metadata": {},
     "output_type": "execute_result"
    }
   ],
   "source": [
    "dfNAN[dfNAN.index.isin([19729 , 29502, 35586])][['adult', 'belongs_to_collection', 'budget', 'genres', 'homepage', 'id',\n",
    "       'imdb_id', 'original_language', 'original_title', 'overview']]"
   ]
  },
  {
   "cell_type": "code",
   "execution_count": 138,
   "metadata": {},
   "outputs": [
    {
     "data": {
      "text/plain": [
       "'A group of skiers are terrorized during spring break by some sharks that swim through the snow.'"
      ]
     },
     "execution_count": 138,
     "metadata": {},
     "output_type": "execute_result"
    }
   ],
   "source": [
    "dfNAN[dfNAN.index.isin([19729 , 29502, 35586])]['overview'].iloc[2]"
   ]
  },
  {
   "cell_type": "code",
   "execution_count": 139,
   "metadata": {},
   "outputs": [
    {
     "data": {
      "text/plain": [
       "' Avalanche Sharks tells the story of a bikini contest that turns into a horrifying affair when it is hit by a shark avalanche.'"
      ]
     },
     "execution_count": 139,
     "metadata": {},
     "output_type": "execute_result"
    }
   ],
   "source": [
    "dfNAN[dfNAN.index.isin([19730 , 29503, 35587])]['adult'].iloc[2]"
   ]
  },
  {
   "cell_type": "code",
   "execution_count": 140,
   "metadata": {},
   "outputs": [
    {
     "data": {
      "text/html": [
       "<div>\n",
       "<style scoped>\n",
       "    .dataframe tbody tr th:only-of-type {\n",
       "        vertical-align: middle;\n",
       "    }\n",
       "\n",
       "    .dataframe tbody tr th {\n",
       "        vertical-align: top;\n",
       "    }\n",
       "\n",
       "    .dataframe thead th {\n",
       "        text-align: right;\n",
       "    }\n",
       "</style>\n",
       "<table border=\"1\" class=\"dataframe\">\n",
       "  <thead>\n",
       "    <tr style=\"text-align: right;\">\n",
       "      <th></th>\n",
       "      <th>adult</th>\n",
       "      <th>belongs_to_collection</th>\n",
       "      <th>budget</th>\n",
       "      <th>genres</th>\n",
       "      <th>homepage</th>\n",
       "      <th>id</th>\n",
       "      <th>imdb_id</th>\n",
       "      <th>original_language</th>\n",
       "      <th>original_title</th>\n",
       "      <th>overview</th>\n",
       "      <th>popularity</th>\n",
       "      <th>poster_path</th>\n",
       "      <th>production_companies</th>\n",
       "      <th>production_countries</th>\n",
       "    </tr>\n",
       "  </thead>\n",
       "  <tbody>\n",
       "    <tr>\n",
       "      <th>19730</th>\n",
       "      <td>- Written by Ørnås</td>\n",
       "      <td>0.065736</td>\n",
       "      <td>/ff9qCepilowshEtG2GYWwzt2bs4.jpg</td>\n",
       "      <td>[{'name': 'Carousel Productions', 'id': 11176}...</td>\n",
       "      <td>[{'iso_3166_1': 'CA', 'name': 'Canada'}, {'iso...</td>\n",
       "      <td>1997-08-20</td>\n",
       "      <td>0</td>\n",
       "      <td>104.0</td>\n",
       "      <td>[{'iso_639_1': 'en', 'name': 'English'}]</td>\n",
       "      <td>Released</td>\n",
       "      <td>NaN</td>\n",
       "      <td>Midnight Man</td>\n",
       "      <td>False</td>\n",
       "      <td>6.0</td>\n",
       "    </tr>\n",
       "    <tr>\n",
       "      <th>29503</th>\n",
       "      <td>Rune Balot goes to a casino connected to the ...</td>\n",
       "      <td>1.931659</td>\n",
       "      <td>/zV8bHuSL6WXoD6FWogP9j4x80bL.jpg</td>\n",
       "      <td>[{'name': 'Aniplex', 'id': 2883}, {'name': 'Go...</td>\n",
       "      <td>[{'iso_3166_1': 'US', 'name': 'United States o...</td>\n",
       "      <td>2012-09-29</td>\n",
       "      <td>0</td>\n",
       "      <td>68.0</td>\n",
       "      <td>[{'iso_639_1': 'ja', 'name': '日本語'}]</td>\n",
       "      <td>Released</td>\n",
       "      <td>NaN</td>\n",
       "      <td>Mardock Scramble: The Third Exhaust</td>\n",
       "      <td>False</td>\n",
       "      <td>7.0</td>\n",
       "    </tr>\n",
       "    <tr>\n",
       "      <th>35587</th>\n",
       "      <td>Avalanche Sharks tells the story of a bikini ...</td>\n",
       "      <td>2.185485</td>\n",
       "      <td>/zaSf5OG7V8X8gqFvly88zDdRm46.jpg</td>\n",
       "      <td>[{'name': 'Odyssey Media', 'id': 17161}, {'nam...</td>\n",
       "      <td>[{'iso_3166_1': 'CA', 'name': 'Canada'}]</td>\n",
       "      <td>2014-01-01</td>\n",
       "      <td>0</td>\n",
       "      <td>82.0</td>\n",
       "      <td>[{'iso_639_1': 'en', 'name': 'English'}]</td>\n",
       "      <td>Released</td>\n",
       "      <td>Beware Of Frost Bites</td>\n",
       "      <td>Avalanche Sharks</td>\n",
       "      <td>False</td>\n",
       "      <td>4.3</td>\n",
       "    </tr>\n",
       "  </tbody>\n",
       "</table>\n",
       "</div>"
      ],
      "text/plain": [
       "                                                   adult  \\\n",
       "19730                                 - Written by Ørnås   \n",
       "29503   Rune Balot goes to a casino connected to the ...   \n",
       "35587   Avalanche Sharks tells the story of a bikini ...   \n",
       "\n",
       "      belongs_to_collection                            budget  \\\n",
       "19730              0.065736  /ff9qCepilowshEtG2GYWwzt2bs4.jpg   \n",
       "29503              1.931659  /zV8bHuSL6WXoD6FWogP9j4x80bL.jpg   \n",
       "35587              2.185485  /zaSf5OG7V8X8gqFvly88zDdRm46.jpg   \n",
       "\n",
       "                                                  genres  \\\n",
       "19730  [{'name': 'Carousel Productions', 'id': 11176}...   \n",
       "29503  [{'name': 'Aniplex', 'id': 2883}, {'name': 'Go...   \n",
       "35587  [{'name': 'Odyssey Media', 'id': 17161}, {'nam...   \n",
       "\n",
       "                                                homepage          id imdb_id  \\\n",
       "19730  [{'iso_3166_1': 'CA', 'name': 'Canada'}, {'iso...  1997-08-20       0   \n",
       "29503  [{'iso_3166_1': 'US', 'name': 'United States o...  2012-09-29       0   \n",
       "35587           [{'iso_3166_1': 'CA', 'name': 'Canada'}]  2014-01-01       0   \n",
       "\n",
       "      original_language                            original_title  overview  \\\n",
       "19730             104.0  [{'iso_639_1': 'en', 'name': 'English'}]  Released   \n",
       "29503              68.0      [{'iso_639_1': 'ja', 'name': '日本語'}]  Released   \n",
       "35587              82.0  [{'iso_639_1': 'en', 'name': 'English'}]  Released   \n",
       "\n",
       "                  popularity                          poster_path  \\\n",
       "19730                    NaN                         Midnight Man   \n",
       "29503                    NaN  Mardock Scramble: The Third Exhaust   \n",
       "35587  Beware Of Frost Bites                     Avalanche Sharks   \n",
       "\n",
       "      production_companies production_countries  \n",
       "19730                False                  6.0  \n",
       "29503                False                  7.0  \n",
       "35587                False                  4.3  "
      ]
     },
     "execution_count": 140,
     "metadata": {},
     "output_type": "execute_result"
    }
   ],
   "source": [
    "dfNAN[dfNAN.index.isin([19730 , 29503, 35587])][['adult', 'belongs_to_collection', 'budget', 'genres', 'homepage', 'id',\n",
    "       'imdb_id', 'original_language', 'original_title', 'overview',\n",
    "       'popularity', 'poster_path', 'production_companies',\n",
    "       'production_countries']]"
   ]
  }
 ],
 "metadata": {
  "kernelspec": {
   "display_name": "ML_RecommenderSystem",
   "language": "python",
   "name": "python3"
  },
  "language_info": {
   "codemirror_mode": {
    "name": "ipython",
    "version": 3
   },
   "file_extension": ".py",
   "mimetype": "text/x-python",
   "name": "python",
   "nbconvert_exporter": "python",
   "pygments_lexer": "ipython3",
   "version": "3.9.7"
  },
  "orig_nbformat": 4
 },
 "nbformat": 4,
 "nbformat_minor": 2
}
